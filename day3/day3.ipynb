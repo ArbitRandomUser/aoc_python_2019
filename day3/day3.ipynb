{
 "cells": [
  {
   "cell_type": "code",
   "execution_count": null,
   "metadata": {},
   "outputs": [],
   "source": [
    "f = open(\"input\")\n",
    "import time\n",
    "pathlist = []\n",
    "eof = False\n",
    "while(not eof):\n",
    "    pathstr = f.readline()\n",
    "    if pathstr=='':\n",
    "        eof = True\n",
    "    else:\n",
    "        pathlist.append(pathstr[:-1].split(\",\"))\n",
    "pathlist"
   ]
  },
  {
   "cell_type": "code",
   "execution_count": null,
   "metadata": {},
   "outputs": [],
   "source": [
    "def points_from_wire(path):\n",
    "    x=0;y=1;\n",
    "    pathpoints = [(0,0)]\n",
    "    for pathlink in path:\n",
    "          for i in range(0,int(pathlink[1:])) :\n",
    "                if pathlink[0]=='R':\n",
    "                    cp = pathpoints[-1] #current path point\n",
    "                    np = (cp[x]+1, cp[y])\n",
    "                    pathpoints.append(np)\n",
    "                if pathlink[0]=='L':\n",
    "                    cp = pathpoints[-1] #current path point\n",
    "                    np = (cp[x]-1, cp[y])\n",
    "                    pathpoints.append(np)\n",
    "                if pathlink[0]=='U':\n",
    "                    cp = pathpoints[-1] #current path point\n",
    "                    np = (cp[x], cp[y]+1)\n",
    "                    pathpoints.append(np)\n",
    "                if pathlink[0]=='D':\n",
    "                    cp = pathpoints[-1] #current path point\n",
    "                    np = (cp[x], cp[y]-1)\n",
    "                    pathpoints.append(np)\n",
    "    return pathpoints"
   ]
  },
  {
   "cell_type": "code",
   "execution_count": null,
   "metadata": {},
   "outputs": [],
   "source": [
    "p1 = points_from_wire(pathlist[0])\n",
    "p2 = points_from_wire(pathlist[1])"
   ]
  },
  {
   "cell_type": "code",
   "execution_count": null,
   "metadata": {},
   "outputs": [],
   "source": [
    "dists = []\n",
    "for point in p1:\n",
    "    #print(point,\" \")\n",
    "    #time.sleep(1)\n",
    "    if point in p2:\n",
    "        dist = abs(point[0])+abs(point[1])\n",
    "        if dist==0:\n",
    "            pass\n",
    "        else:\n",
    "            print(\"found :\" , point ,\" dist:\" , dist)\n",
    "            dists.append(dist)\n",
    " "
   ]
  },
  {
   "cell_type": "code",
   "execution_count": null,
   "metadata": {},
   "outputs": [],
   "source": [
    "sumpaths = []\n",
    "for index1,point1 in enumerate(p1):\n",
    "    for index2,point2 in enumerate(p2):\n",
    "        if point1==(0,0):\n",
    "            pass\n",
    "        elif point1==point2:\n",
    "            sumpath = index1+index2\n",
    "            sumpaths.append(sumpath)\n",
    "            print(\"found \" , point1, \" sumdist \",sumpath)"
   ]
  },
  {
   "cell_type": "code",
   "execution_count": null,
   "metadata": {},
   "outputs": [],
   "source": [
    "%%time\n",
    "sum = 0\n",
    "for i in p1:\n",
    "    sum = sum + i[0]\n",
    "    pass\n",
    "sum"
   ]
  },
  {
   "cell_type": "code",
   "execution_count": null,
   "metadata": {},
   "outputs": [],
   "source": [
    "min(dists)"
   ]
  },
  {
   "cell_type": "code",
   "execution_count": null,
   "metadata": {},
   "outputs": [],
   "source": [
    "%%time\n",
    "if \"ll\" in p2:\n",
    "    print(\"tada\")"
   ]
  },
  {
   "cell_type": "code",
   "execution_count": null,
   "metadata": {},
   "outputs": [],
   "source": [
    "len(p1)*3.95*0.001"
   ]
  },
  {
   "cell_type": "code",
   "execution_count": null,
   "metadata": {},
   "outputs": [],
   "source": [
    "min(sumpaths)"
   ]
  },
  {
   "cell_type": "code",
   "execution_count": null,
   "metadata": {},
   "outputs": [],
   "source": []
  }
 ],
 "metadata": {
  "kernelspec": {
   "display_name": "Python 3",
   "language": "python",
   "name": "python3"
  },
  "language_info": {
   "codemirror_mode": {
    "name": "ipython",
    "version": 3
   },
   "file_extension": ".py",
   "mimetype": "text/x-python",
   "name": "python",
   "nbconvert_exporter": "python",
   "pygments_lexer": "ipython3",
   "version": "3.7.3"
  }
 },
 "nbformat": 4,
 "nbformat_minor": 2
}
