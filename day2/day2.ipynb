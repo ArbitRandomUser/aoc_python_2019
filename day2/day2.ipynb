{
 "cells": [
  {
   "cell_type": "code",
   "execution_count": null,
   "metadata": {},
   "outputs": [],
   "source": [
    "\n",
    "def add(x,y):\n",
    "    return x+y\n",
    "\n",
    "def mul(x,y):\n",
    "    return x*y\n",
    "\n",
    "def exitprog():\n",
    "    print(\"program exited\")\n",
    "    breakflag = 1\n",
    "    \n",
    "#opcodes = {1 : (add,4), 2 : (mul,4) , 99 :(exitprog , 1)}\n",
    "f = open(\"input\")\n",
    "programstring = f.readline()[:-1]"
   ]
  },
  {
   "cell_type": "code",
   "execution_count": null,
   "metadata": {},
   "outputs": [],
   "source": [
    "programsplit = programstring.split(\",\")\n",
    "program_bak = list(map(int , programsplit))\n",
    "\n",
    "def compute(program , noun , verb):\n",
    "    breakflag = 0\n",
    "    pc = 0\n",
    "    program[1] , program[2]= noun,verb\n",
    "    while(breakflag==0):\n",
    "        op = program[pc]\n",
    "        #print(pc,\" \",op)\n",
    "        if (op)==1:\n",
    "            program[program[pc+3]] = program[program[pc+2]] +\\\n",
    "            program[program[pc+1]]\n",
    "            pc +=4\n",
    "        if (op)==2:\n",
    "            program[program[pc+3]] = program[program[pc+2]] *\\\n",
    "            program[program[pc+1]]\n",
    "            pc+=4\n",
    "        if (op)==99:\n",
    "            breakflag=1\n",
    "    return program[0]\n",
    "\n",
    "def reset(program):\n",
    "    program[:] = program_bak"
   ]
  },
  {
   "cell_type": "code",
   "execution_count": null,
   "metadata": {},
   "outputs": [],
   "source": [
    "program = program_bak.copy()\n",
    "compute(program,12,2)"
   ]
  },
  {
   "cell_type": "code",
   "execution_count": null,
   "metadata": {},
   "outputs": [],
   "source": [
    "ip_pairs = [(i,j) for i in range(0,99) for j in range(0,99)]\n",
    "reset(program)\n",
    "for noun,verb in ip_pairs:\n",
    "    #print(\"evaling \" , noun ,\" \", verb)\n",
    "    if compute(program,noun,verb) == 19690720:\n",
    "        print(\"found it\")\n",
    "        break\n",
    "    else:\n",
    "        reset(program)\n",
    "100*noun + verb"
   ]
  },
  {
   "cell_type": "code",
   "execution_count": null,
   "metadata": {},
   "outputs": [],
   "source": []
  }
 ],
 "metadata": {
  "kernelspec": {
   "display_name": "Python 3",
   "language": "python",
   "name": "python3"
  },
  "language_info": {
   "codemirror_mode": {
    "name": "ipython",
    "version": 3
   },
   "file_extension": ".py",
   "mimetype": "text/x-python",
   "name": "python",
   "nbconvert_exporter": "python",
   "pygments_lexer": "ipython3",
   "version": "3.7.3"
  }
 },
 "nbformat": 4,
 "nbformat_minor": 2
}
