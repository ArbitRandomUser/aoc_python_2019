{
 "cells": [
  {
   "cell_type": "code",
   "execution_count": 1,
   "metadata": {},
   "outputs": [],
   "source": [
    "#def compute(program , noun , verb):\n",
    "#    breakflag = 0\n",
    "#    pc = 0\n",
    "#    program[1] , program[2]= noun,verb\n",
    "#    while(breakflag==0):\n",
    "#        op = program[pc]\n",
    "#        #print(pc,\" \",op)\n",
    "#        if (op)==1:\n",
    "#            program[program[pc+3]] = program[program[pc+2]] +\\\n",
    "#            program[program[pc+1]]\n",
    "#            pc +=4\n",
    "#        if (op)==2:\n",
    "#            program[program[pc+3]] = program[program[pc+2]] *\\\n",
    "#            program[program[pc+1]]\n",
    "#            pc+=4\n",
    "#        if (op)==99:\n",
    "#            breakflag=1\n",
    "#    return program[0]\n",
    "\n",
    "def accessval(program,loc,m):\n",
    "    if m==0:\n",
    "        return program[program[loc]]\n",
    "    elif m==1:\n",
    "        return program[loc]\n",
    "    \n",
    "def setval(program,loc,val,m):\n",
    "    if m==0:\n",
    "        program[program[loc]] = val\n",
    "    elif m==1:\n",
    "        program[loc] = val\n",
    "        \n",
    "def run_op(program,pc):\n",
    "    \"\"\"runs an operation \"\"\"\n",
    "    op = program[pc]\n",
    "    strop = '{:05d}'.format(op) #get string of op in 5 digit format\n",
    "    c = int(strop[0]) #3rd param flag \n",
    "    b = int(strop[1]) #2nd param flag\n",
    "    a = int(strop[2]) #1st param flag\n",
    "    new_pc = op_lookup[op%100](program,pc,a,b,c)\n",
    "    return new_pc\n",
    "\n",
    "def compute(program):\n",
    "    \"\"\" computes the entire progra\"\"\"\n",
    "    pc=0 #program counter\n",
    "    while(program[pc]!=99):\n",
    "        #print(\"running op \", program[pc])\n",
    "        pc = run_op(program,pc)\n",
    "        #print(\"program state is \" , program)\n",
    "\n",
    "# operators in our computer and lookup table\n",
    "def mul(program,pc,a,b,c):\n",
    "    #print(\"abc\",a,b,c)\n",
    "    ip1 = accessval(program , pc+1,a)\n",
    "    ip2 = accessval(program , pc+2,b)\n",
    "    #print(ip1,ip2)\n",
    "    setval(program , pc+3 , ip1*ip2 ,c)\n",
    "    return pc+4\n",
    "    \n",
    "def add(program,pc,a,b,c):\n",
    "    ip1 = accessval(program , pc+1,a)\n",
    "    ip2 = accessval(program , pc+2,b)\n",
    "    setval(program , pc+3 , ip1+ip2 ,c)\n",
    "    return pc+4\n",
    "\n",
    "def inputval(program,pc,a,b,c):\n",
    "    val = int(input())\n",
    "    setval(program , pc+1 ,val ,a)\n",
    "    return pc+2\n",
    "\n",
    "def outputval(program , pc , a,b,c):\n",
    "    val = accessval(program , pc+1 , a)\n",
    "    print(val)\n",
    "    return pc+2\n",
    "\n",
    "def jump_if_true(program ,pc , a,b,c):\n",
    "    ip1 = accessval(program , pc+1 ,a)\n",
    "    if ip1 !=0 :\n",
    "        return accessval(program,pc+2,b)\n",
    "    else:\n",
    "        return pc+3\n",
    "    \n",
    "def jump_if_false(program , pc , a,b,c):\n",
    "    ip1 = accessval(program,pc+1,a)\n",
    "    if ip1 ==0 :\n",
    "        return accessval(program,pc+2,b)\n",
    "    else:\n",
    "        return pc+3\n",
    "    \n",
    "def less_than(program , pc , a,b,c):\n",
    "    ip1 = accessval(program,pc+1,a)\n",
    "    ip2 = accessval(program,pc+2,b)\n",
    "    if ip1<ip2:\n",
    "        setval(program,pc+3,1,c)\n",
    "    else:\n",
    "        setval(program,pc+3,0,c)\n",
    "    return pc+4\n",
    "\n",
    "def equals(program , pc , a,b,c):\n",
    "    ip1 = accessval(program,pc+1,a)\n",
    "    ip2 = accessval(program,pc+2,b)\n",
    "    if ip1==ip2:\n",
    "        setval(program,pc+3,1,c)\n",
    "    else:\n",
    "        setval(program,pc+3,0,c)\n",
    "    return pc+4\n",
    "\n",
    "op_lookup = {1:add , 2:mul , 3:inputval , 4:outputval , 5:jump_if_true ,\\\n",
    "            6:jump_if_false , 7:less_than , 8:equals}"
   ]
  },
  {
   "cell_type": "code",
   "execution_count": 2,
   "metadata": {},
   "outputs": [],
   "source": [
    "f = open(\"input\")"
   ]
  },
  {
   "cell_type": "code",
   "execution_count": 3,
   "metadata": {},
   "outputs": [],
   "source": [
    "strprogram = f.readline()\n",
    "program = list(map(int, strprogram.split(\",\")))"
   ]
  },
  {
   "cell_type": "code",
   "execution_count": 4,
   "metadata": {},
   "outputs": [
    {
     "name": "stdout",
     "output_type": "stream",
     "text": [
      "5\n",
      "4655956\n"
     ]
    }
   ],
   "source": [
    "compute(program)"
   ]
  },
  {
   "cell_type": "code",
   "execution_count": null,
   "metadata": {},
   "outputs": [],
   "source": []
  }
 ],
 "metadata": {
  "kernelspec": {
   "display_name": "Python 3",
   "language": "python",
   "name": "python3"
  },
  "language_info": {
   "codemirror_mode": {
    "name": "ipython",
    "version": 3
   },
   "file_extension": ".py",
   "mimetype": "text/x-python",
   "name": "python",
   "nbconvert_exporter": "python",
   "pygments_lexer": "ipython3",
   "version": "3.7.3"
  }
 },
 "nbformat": 4,
 "nbformat_minor": 2
}
