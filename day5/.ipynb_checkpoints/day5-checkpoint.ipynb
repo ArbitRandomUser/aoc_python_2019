{
 "cells": [
  {
   "cell_type": "code",
   "execution_count": 10,
   "metadata": {},
   "outputs": [],
   "source": [
    "from functools import partial\n",
    "def compute(program , noun , verb):\n",
    "    breakflag = 0\n",
    "    pc = 0\n",
    "    program[1] , program[2]= noun,verb\n",
    "    while(breakflag==0):\n",
    "        op = program[pc]\n",
    "        #print(pc,\" \",op)\n",
    "        if (op)==1:\n",
    "            program[program[pc+3]] = program[program[pc+2]] +\\\n",
    "            program[program[pc+1]]\n",
    "            pc +=4\n",
    "        if (op)==2:\n",
    "            program[program[pc+3]] = program[program[pc+2]] *\\\n",
    "            program[program[pc+1]]\n",
    "            pc+=4\n",
    "        if (op)==99:\n",
    "            breakflag=1\n",
    "    return program[0]\n",
    "\n",
    "def accessval(program,loc,m):\n",
    "    if m==0:\n",
    "        return program[program[loc]]\n",
    "    elif m==1:\n",
    "        return program[loc]\n",
    "    \n",
    "def setval(program,loc,val,m):\n",
    "    if m==0:\n",
    "        program[program[loc]] = val\n",
    "    elif m==1:\n",
    "        program[loc] = val\n",
    "        \n",
    "def run_op(program,pc):\n",
    "    op = program[pc]\n",
    "    strop = '{:05d}'.format(op)\n",
    "    c = strop[0] #3rd param\n",
    "    b = strop[1] #2nd param\n",
    "    a = strop[2] #1st param\n",
    "    inc = op_lookup[op%100](program,pc,a,b,c)\n",
    "    return pc+inc\n",
    "\n",
    "def compute(program):\n",
    "    pc=0\n",
    "    while(program[pc]!=99):\n",
    "        print(\"running op \", pc)\n",
    "        run_op(program,pc)\n",
    "        pc = pc+1\n",
    "\n",
    "def mul(program,pc,a,b,c):\n",
    "    ip1 = accessval(program , pc+1,b)\n",
    "    ip2 = accessval(program , pc+2,c)\n",
    "    setval(program , pc+3 , ip1*ip2 ,c)\n",
    "    return 4\n",
    "    \n",
    "def add(program,pc,a,b,c):\n",
    "    ip1 = accessval(program , pc+1,b)\n",
    "    ip2 = accessval(program , pc+2,c)\n",
    "    setval(program , pc+3 , ip1+ip2 ,c)\n",
    "    return 4\n",
    "\n",
    "def inputval(program,pc,a,b,c):\n",
    "    val = int(input())\n",
    "    setval(program , pc+1 ,c)\n",
    "    return 2\n",
    "\n",
    "def outputval(program , pc , a,b,c):\n",
    "    val = accessval(program , pc , a)\n",
    "    print(val)\n",
    "    return 2\n",
    "\n",
    "\n",
    "\n",
    "op_lookup = {1:add , 2:mul , 3:inputval , 4:outputval}\n",
    "    "
   ]
  },
  {
   "cell_type": "code",
   "execution_count": 11,
   "metadata": {},
   "outputs": [
    {
     "name": "stdout",
     "output_type": "stream",
     "text": [
      "running op  0\n"
     ]
    },
    {
     "ename": "TypeError",
     "evalue": "unsupported operand type(s) for *: 'NoneType' and 'NoneType'",
     "output_type": "error",
     "traceback": [
      "\u001b[0;31m---------------------------------------------------------------------------\u001b[0m",
      "\u001b[0;31mTypeError\u001b[0m                                 Traceback (most recent call last)",
      "\u001b[0;32m<ipython-input-11-4076b2040871>\u001b[0m in \u001b[0;36m<module>\u001b[0;34m\u001b[0m\n\u001b[1;32m      1\u001b[0m \u001b[0mprogram\u001b[0m \u001b[0;34m=\u001b[0m \u001b[0;34m[\u001b[0m\u001b[0;36m1002\u001b[0m\u001b[0;34m,\u001b[0m\u001b[0;36m4\u001b[0m\u001b[0;34m,\u001b[0m\u001b[0;36m3\u001b[0m\u001b[0;34m,\u001b[0m\u001b[0;36m4\u001b[0m\u001b[0;34m,\u001b[0m\u001b[0;36m33\u001b[0m\u001b[0;34m]\u001b[0m\u001b[0;34m\u001b[0m\u001b[0;34m\u001b[0m\u001b[0m\n\u001b[0;32m----> 2\u001b[0;31m \u001b[0mcompute\u001b[0m\u001b[0;34m(\u001b[0m\u001b[0mprogram\u001b[0m\u001b[0;34m)\u001b[0m\u001b[0;34m\u001b[0m\u001b[0;34m\u001b[0m\u001b[0m\n\u001b[0m",
      "\u001b[0;32m<ipython-input-10-0bbf7b4df1eb>\u001b[0m in \u001b[0;36mcompute\u001b[0;34m(program)\u001b[0m\n\u001b[1;32m     44\u001b[0m     \u001b[0;32mwhile\u001b[0m\u001b[0;34m(\u001b[0m\u001b[0mprogram\u001b[0m\u001b[0;34m[\u001b[0m\u001b[0mpc\u001b[0m\u001b[0;34m]\u001b[0m\u001b[0;34m!=\u001b[0m\u001b[0;36m99\u001b[0m\u001b[0;34m)\u001b[0m\u001b[0;34m:\u001b[0m\u001b[0;34m\u001b[0m\u001b[0;34m\u001b[0m\u001b[0m\n\u001b[1;32m     45\u001b[0m         \u001b[0mprint\u001b[0m\u001b[0;34m(\u001b[0m\u001b[0;34m\"running op \"\u001b[0m\u001b[0;34m,\u001b[0m \u001b[0mpc\u001b[0m\u001b[0;34m)\u001b[0m\u001b[0;34m\u001b[0m\u001b[0;34m\u001b[0m\u001b[0m\n\u001b[0;32m---> 46\u001b[0;31m         \u001b[0mrun_op\u001b[0m\u001b[0;34m(\u001b[0m\u001b[0mprogram\u001b[0m\u001b[0;34m,\u001b[0m\u001b[0mpc\u001b[0m\u001b[0;34m)\u001b[0m\u001b[0;34m\u001b[0m\u001b[0;34m\u001b[0m\u001b[0m\n\u001b[0m\u001b[1;32m     47\u001b[0m         \u001b[0mpc\u001b[0m \u001b[0;34m=\u001b[0m \u001b[0mpc\u001b[0m\u001b[0;34m+\u001b[0m\u001b[0;36m1\u001b[0m\u001b[0;34m\u001b[0m\u001b[0;34m\u001b[0m\u001b[0m\n\u001b[1;32m     48\u001b[0m \u001b[0;34m\u001b[0m\u001b[0m\n",
      "\u001b[0;32m<ipython-input-10-0bbf7b4df1eb>\u001b[0m in \u001b[0;36mrun_op\u001b[0;34m(program, pc)\u001b[0m\n\u001b[1;32m     37\u001b[0m     \u001b[0mb\u001b[0m \u001b[0;34m=\u001b[0m \u001b[0mstrop\u001b[0m\u001b[0;34m[\u001b[0m\u001b[0;36m1\u001b[0m\u001b[0;34m]\u001b[0m \u001b[0;31m#2nd param\u001b[0m\u001b[0;34m\u001b[0m\u001b[0;34m\u001b[0m\u001b[0m\n\u001b[1;32m     38\u001b[0m     \u001b[0ma\u001b[0m \u001b[0;34m=\u001b[0m \u001b[0mstrop\u001b[0m\u001b[0;34m[\u001b[0m\u001b[0;36m2\u001b[0m\u001b[0;34m]\u001b[0m \u001b[0;31m#1st param\u001b[0m\u001b[0;34m\u001b[0m\u001b[0;34m\u001b[0m\u001b[0m\n\u001b[0;32m---> 39\u001b[0;31m     \u001b[0minc\u001b[0m \u001b[0;34m=\u001b[0m \u001b[0mop_lookup\u001b[0m\u001b[0;34m[\u001b[0m\u001b[0mop\u001b[0m\u001b[0;34m%\u001b[0m\u001b[0;36m100\u001b[0m\u001b[0;34m]\u001b[0m\u001b[0;34m(\u001b[0m\u001b[0mprogram\u001b[0m\u001b[0;34m,\u001b[0m\u001b[0mpc\u001b[0m\u001b[0;34m,\u001b[0m\u001b[0ma\u001b[0m\u001b[0;34m,\u001b[0m\u001b[0mb\u001b[0m\u001b[0;34m,\u001b[0m\u001b[0mc\u001b[0m\u001b[0;34m)\u001b[0m\u001b[0;34m\u001b[0m\u001b[0;34m\u001b[0m\u001b[0m\n\u001b[0m\u001b[1;32m     40\u001b[0m     \u001b[0;32mreturn\u001b[0m \u001b[0mpc\u001b[0m\u001b[0;34m+\u001b[0m\u001b[0minc\u001b[0m\u001b[0;34m\u001b[0m\u001b[0;34m\u001b[0m\u001b[0m\n\u001b[1;32m     41\u001b[0m \u001b[0;34m\u001b[0m\u001b[0m\n",
      "\u001b[0;32m<ipython-input-10-0bbf7b4df1eb>\u001b[0m in \u001b[0;36mmul\u001b[0;34m(program, pc, a, b, c)\u001b[0m\n\u001b[1;32m     50\u001b[0m     \u001b[0mip1\u001b[0m \u001b[0;34m=\u001b[0m \u001b[0maccessval\u001b[0m\u001b[0;34m(\u001b[0m\u001b[0mprogram\u001b[0m \u001b[0;34m,\u001b[0m \u001b[0mpc\u001b[0m\u001b[0;34m+\u001b[0m\u001b[0;36m1\u001b[0m\u001b[0;34m,\u001b[0m\u001b[0mb\u001b[0m\u001b[0;34m)\u001b[0m\u001b[0;34m\u001b[0m\u001b[0;34m\u001b[0m\u001b[0m\n\u001b[1;32m     51\u001b[0m     \u001b[0mip2\u001b[0m \u001b[0;34m=\u001b[0m \u001b[0maccessval\u001b[0m\u001b[0;34m(\u001b[0m\u001b[0mprogram\u001b[0m \u001b[0;34m,\u001b[0m \u001b[0mpc\u001b[0m\u001b[0;34m+\u001b[0m\u001b[0;36m2\u001b[0m\u001b[0;34m,\u001b[0m\u001b[0mc\u001b[0m\u001b[0;34m)\u001b[0m\u001b[0;34m\u001b[0m\u001b[0;34m\u001b[0m\u001b[0m\n\u001b[0;32m---> 52\u001b[0;31m     \u001b[0msetval\u001b[0m\u001b[0;34m(\u001b[0m\u001b[0mprogram\u001b[0m \u001b[0;34m,\u001b[0m \u001b[0mpc\u001b[0m\u001b[0;34m+\u001b[0m\u001b[0;36m3\u001b[0m \u001b[0;34m,\u001b[0m \u001b[0mip1\u001b[0m\u001b[0;34m*\u001b[0m\u001b[0mip2\u001b[0m \u001b[0;34m,\u001b[0m\u001b[0mc\u001b[0m\u001b[0;34m)\u001b[0m\u001b[0;34m\u001b[0m\u001b[0;34m\u001b[0m\u001b[0m\n\u001b[0m\u001b[1;32m     53\u001b[0m     \u001b[0;32mreturn\u001b[0m \u001b[0;36m4\u001b[0m\u001b[0;34m\u001b[0m\u001b[0;34m\u001b[0m\u001b[0m\n\u001b[1;32m     54\u001b[0m \u001b[0;34m\u001b[0m\u001b[0m\n",
      "\u001b[0;31mTypeError\u001b[0m: unsupported operand type(s) for *: 'NoneType' and 'NoneType'"
     ]
    }
   ],
   "source": [
    "program = [1002,4,3,4,33]\n",
    "compute(program)\n"
   ]
  },
  {
   "cell_type": "code",
   "execution_count": null,
   "metadata": {},
   "outputs": [],
   "source": []
  }
 ],
 "metadata": {
  "kernelspec": {
   "display_name": "Python 3",
   "language": "python",
   "name": "python3"
  },
  "language_info": {
   "codemirror_mode": {
    "name": "ipython",
    "version": 3
   },
   "file_extension": ".py",
   "mimetype": "text/x-python",
   "name": "python",
   "nbconvert_exporter": "python",
   "pygments_lexer": "ipython3",
   "version": "3.7.3"
  }
 },
 "nbformat": 4,
 "nbformat_minor": 2
}
