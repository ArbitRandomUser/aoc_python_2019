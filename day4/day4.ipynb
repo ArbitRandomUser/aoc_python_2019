{
 "cells": [
  {
   "cell_type": "code",
   "execution_count": 17,
   "metadata": {},
   "outputs": [],
   "source": [
    "def check_adjacent(i):\n",
    "    cp = str(i)[0]\n",
    "    for c in str(i)[1:]:\n",
    "        if c == cp:\n",
    "            return True\n",
    "        else:\n",
    "            cp = c\n",
    "            continue\n",
    "    return False\n",
    "\n",
    "def check_adjacent_better(i):\n",
    "    stri = str(i)\n",
    "    return any(map( lambda x : x[0]==x[1] , zip(stri[:-1] , stri[1:]) ))\n",
    "\n",
    "def check_adjacent_new(i):\n",
    "    stri = str(i)\n",
    "    digcount = 1 \n",
    "    dig_prev = \"a\"\n",
    "    digcount_list = []\n",
    "    for dig in stri:\n",
    "        if dig == dig_prev:\n",
    "            digcount=digcount+1\n",
    "        else:\n",
    "            digcount_list.append(digcount)\n",
    "            digcount = 1\n",
    "        dig_prev = dig\n",
    "    digcount_list.append(digcount)\n",
    "    #print(digcount_list[1:])\n",
    "    if 2 in digcount_list[1:]:\n",
    "        return True\n",
    "    else:\n",
    "        return False\n",
    "    \n",
    "            \n",
    "def check_increase(i):\n",
    "    for ind,dig in enumerate(str(i)[:-1]):\n",
    "        if str(i)[ind+1] < dig:\n",
    "            return False\n",
    "        else:\n",
    "            continue\n",
    "    return True\n"
   ]
  },
  {
   "cell_type": "code",
   "execution_count": 18,
   "metadata": {},
   "outputs": [
    {
     "data": {
      "text/plain": [
       "True"
      ]
     },
     "execution_count": 18,
     "metadata": {},
     "output_type": "execute_result"
    }
   ],
   "source": [
    "check_adjacent(123444)"
   ]
  },
  {
   "cell_type": "code",
   "execution_count": 19,
   "metadata": {},
   "outputs": [
    {
     "data": {
      "text/plain": [
       "False"
      ]
     },
     "execution_count": 19,
     "metadata": {},
     "output_type": "execute_result"
    }
   ],
   "source": [
    "check_adjacent_new(122223334)"
   ]
  },
  {
   "cell_type": "code",
   "execution_count": 20,
   "metadata": {},
   "outputs": [
    {
     "name": "stdout",
     "output_type": "stream",
     "text": [
      "1291\n"
     ]
    }
   ],
   "source": [
    "count = 0\n",
    "for i in range(136818,685979+1):\n",
    "    if check_adjacent_new(i) and check_increase(i):\n",
    "        count +=1\n",
    "        \n",
    "print(count)"
   ]
  },
  {
   "cell_type": "code",
   "execution_count": null,
   "metadata": {},
   "outputs": [],
   "source": []
  }
 ],
 "metadata": {
  "kernelspec": {
   "display_name": "Python 3",
   "language": "python",
   "name": "python3"
  },
  "language_info": {
   "codemirror_mode": {
    "name": "ipython",
    "version": 3
   },
   "file_extension": ".py",
   "mimetype": "text/x-python",
   "name": "python",
   "nbconvert_exporter": "python",
   "pygments_lexer": "ipython3",
   "version": "3.7.3"
  }
 },
 "nbformat": 4,
 "nbformat_minor": 2
}
