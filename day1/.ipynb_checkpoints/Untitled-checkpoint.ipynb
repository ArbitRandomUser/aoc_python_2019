{
 "cells": [
  {
   "cell_type": "code",
   "execution_count": 32,
   "metadata": {},
   "outputs": [
    {
     "data": {
      "text/plain": [
       "3216868.0"
      ]
     },
     "execution_count": 32,
     "metadata": {},
     "output_type": "execute_result"
    }
   ],
   "source": [
    "import math \n",
    "f = open(\"input\")\n",
    "fcontents = f.read()\n",
    "masslist = fcontents.split(\"\\n\")\n",
    "masslist = masslist[0:-1]\n",
    "\n",
    "def fuel_for_mass(mass):\n",
    "    fuel_mass = math.floor(float(mass)/3.0)- 2.0 \n",
    "    return fuel_mass\n",
    "\n",
    "fuel_mass_list = []\n",
    "for mass in masslist:\n",
    "     fuel_mass_list.append(fuel_for_mass(mass))\n",
    "        \n",
    "sum(fuel_mass_list)"
   ]
  },
  {
   "cell_type": "code",
   "execution_count": 39,
   "metadata": {},
   "outputs": [
    {
     "data": {
      "text/plain": [
       "4822435.0"
      ]
     },
     "execution_count": 39,
     "metadata": {},
     "output_type": "execute_result"
    }
   ],
   "source": [
    "#part2\n",
    "    \n",
    "def fuel_for(mass):\n",
    "    total_fuel_for_mass = 0\n",
    "    fuel_mass = math.floor(float(mass)/3.00) - 2.0\n",
    "    while fuel_mass > 0:\n",
    "        total_fuel_for_mass += fuel_mass\n",
    "        fuel_mass = math.floor(float(fuel_mass)/3.0) - 2.0\n",
    "    return total_fuel_for_mass\n",
    "        \n",
    "#def fuel_for(mass):\n",
    "#    fuel_mass = math.floor(float(mass)/3.0)- 2.0 \n",
    "#    if fuel_for(fuel_mass) < 0:\n",
    "#        return fuel_mass + 0\n",
    "#    else:\n",
    "#        return fuel_mass + fuel_for(fuel_mass)\n",
    "    \n",
    "fuel_mass_r = []\n",
    "for mass in masslist:\n",
    "    fuel_mass_r.append(fuel_for(mass))\n",
    "\n",
    "sum(fuel_mass_r)"
   ]
  }
 ],
 "metadata": {
  "kernelspec": {
   "display_name": "Python 3",
   "language": "python",
   "name": "python3"
  },
  "language_info": {
   "codemirror_mode": {
    "name": "ipython",
    "version": 3
   },
   "file_extension": ".py",
   "mimetype": "text/x-python",
   "name": "python",
   "nbconvert_exporter": "python",
   "pygments_lexer": "ipython3",
   "version": "3.7.3"
  }
 },
 "nbformat": 4,
 "nbformat_minor": 2
}
